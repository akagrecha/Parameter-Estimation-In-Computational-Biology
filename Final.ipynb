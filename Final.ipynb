{
 "cells": [
  {
   "cell_type": "code",
   "execution_count": 1,
   "metadata": {},
   "outputs": [],
   "source": [
    "import numpy as np\n",
    "import matplotlib.pyplot as plt\n",
    "from numpy.random import normal as normal\n",
    "from scipy.integrate import odeint\n",
    "from numpy.linalg import inv"
   ]
  },
  {
   "cell_type": "code",
   "execution_count": 2,
   "metadata": {},
   "outputs": [],
   "source": [
    "%matplotlib qt"
   ]
  },
  {
   "cell_type": "code",
   "execution_count": 3,
   "metadata": {},
   "outputs": [],
   "source": [
    "αd = 0.015\n",
    "η = 60\n",
    "α0 = 0.03\n",
    "Ks = 0.05\n",
    "Ku = 0.0254\n",
    "K = 80\n",
    "Kfold = 6000\n",
    "Pt = 2e6"
   ]
  },
  {
   "cell_type": "code",
   "execution_count": 4,
   "metadata": {},
   "outputs": [],
   "source": [
    "def heat_shock_response(state, t):\n",
    "    dt = state[0]\n",
    "    st = state[1]\n",
    "    uf = state[2]\n",
    "    Kd = state[3]\n",
    "    αs = state[4]\n",
    "    \n",
    "    dtd = Kd*st*(1+Ku*uf)/(1+Ku*uf+Ks*dt) - αd*dt\n",
    "    std = η - α0*st - αs*Ks*dt*st/(1+Ku*uf+Ks*dt)\n",
    "    ufd = K*(Pt - uf) - (K+Kfold)*dt\n",
    "    Kdd = 0\n",
    "    αsd = 0\n",
    "    \n",
    "    return np.array([dtd, std, ufd, Kdd, αsd])"
   ]
  },
  {
   "cell_type": "code",
   "execution_count": 5,
   "metadata": {},
   "outputs": [],
   "source": [
    "dt_original = np.loadtxt('dt_original.txt')\n",
    "st_original = np.loadtxt('st_original.txt')\n",
    "dt_noisy = np.loadtxt('dt_noisy.txt')\n",
    "st_noisy = np.loadtxt('st_noisy.txt')"
   ]
  },
  {
   "cell_type": "code",
   "execution_count": 6,
   "metadata": {},
   "outputs": [],
   "source": [
    "sampling_times = np.array([10,11,12,15,16,20,40])\n",
    "sampling_times = np.append(sampling_times, np.arange(50,401,25))"
   ]
  },
  {
   "cell_type": "code",
   "execution_count": 7,
   "metadata": {},
   "outputs": [],
   "source": [
    "σ1 = (1.24*10**5)**0.5\n",
    "σ2 = 737.94**0.5\n",
    "R = np.diag([σ1**2, σ2**2])"
   ]
  },
  {
   "cell_type": "markdown",
   "metadata": {},
   "source": [
    "### HEKF"
   ]
  },
  {
   "cell_type": "code",
   "execution_count": 8,
   "metadata": {},
   "outputs": [],
   "source": [
    "def find_f_jacobian(state):\n",
    "    dt = state[0]\n",
    "    st = state[1]\n",
    "    uf = state[2]\n",
    "    Kd = state[3]\n",
    "    αs = state[4]\n",
    "    \n",
    "    jac = np.zeros((5,5))\n",
    "    \n",
    "    jac[0,0] = -αd -Kd*st*(1+Ku*uf)*Ks/(1+Ku*uf+Ks*dt)**2 # df1/dDt\n",
    "    jac[0,1] = Kd*(1+Ku*uf)/(1+Ku*uf+Ks*dt) # df1/dSt\n",
    "    jac[0,2] = Ku*Ks*Kd*dt*st/(1+Ku*uf+Ks*dt)**2 # df1/dUf\n",
    "    jac[0,3] = st*(1+Ku*uf)/(1+Ku*uf+Ks*dt) # df1/dKd\n",
    "    jac[0,4] = 0 # df1/dαs\n",
    "    \n",
    "    jac[1,0] = -(1+Ku*uf)*αs*Ks*st/(1+Ku*uf+Ks*dt)**2 # df2/dDt\n",
    "    jac[1,1] = -α0 - αs*Ks*dt/(1+Ku*uf+Ks*dt) # df2/dSt\n",
    "    jac[1,2] = αs*Ks*dt*st*Ku/(1+Ku*uf+Ks*dt)**2 # df2/dUf\n",
    "    jac[1,3] = 0 # df2/dKd\n",
    "    jac[1,4] = -Ks*dt*st/(1+Ku*uf+Ks*dt) # df2/dαs\n",
    "    \n",
    "    jac[2,0] = -K - Kfold\n",
    "    jac[2,1] = 0\n",
    "    jac[2,2] = -K\n",
    "    jac[2,3] = 0\n",
    "    jac[2,4] = 0\n",
    "    \n",
    "    # $̇Kd = 0, ̇αs = 0$\n",
    "    \n",
    "    return jac"
   ]
  },
  {
   "cell_type": "code",
   "execution_count": 9,
   "metadata": {},
   "outputs": [],
   "source": [
    "def find_h_jacobian():\n",
    "    jac = np.zeros((2,5)) # only Dt and St measurments are available\n",
    "    jac[0,0] = 1\n",
    "    jac[1,1] = 1\n",
    "    \n",
    "    return jac"
   ]
  },
  {
   "cell_type": "code",
   "execution_count": 10,
   "metadata": {},
   "outputs": [],
   "source": [
    "def diff_error_cov_eqn(error_cov_flat, t, jac_f, Q):\n",
    "    error_cov = np.reshape(error_cov_flat, [5,5])\n",
    "    error_cov_diff = jac_f@error_cov + error_cov@jac_f.T + Q\n",
    "    return error_cov_diff.flatten()"
   ]
  },
  {
   "cell_type": "code",
   "execution_count": 11,
   "metadata": {},
   "outputs": [],
   "source": [
    "states = np.zeros((1+len(sampling_times),5))\n",
    "\n",
    "# Initial Conditions\n",
    "state_post = np.array([10000, 50, 2e6, 0.01, 0.01])\n",
    "Q = 0.1*np.eye(5)\n",
    "error_cov_post = Q\n",
    "\n",
    "states[0,:] = state_post\n",
    "\n",
    "for i in range(len(sampling_times)):\n",
    "    if i==0:\n",
    "        t = np.linspace(0, sampling_times[0], 100) \n",
    "    else:\n",
    "        t = np.linspace(sampling_times[i-1], sampling_times[i], 100)\n",
    "    \n",
    "    # finding a priori state estimate\n",
    "    state_prior = odeint(heat_shock_response, state_post, t)[-1,:]\n",
    "        \n",
    "    # finding a priori error covariance estimate\n",
    "    jac_f = find_f_jacobian(state_post)\n",
    "    error_cov_prior = np.reshape(odeint(diff_error_cov_eqn, error_cov_post.flatten(), \n",
    "                                        t, args = (jac_f,Q,))[-1,:], [5,5])\n",
    "\n",
    "    # finding the gain\n",
    "    jac_h = find_h_jacobian() #2x5\n",
    "    gain = error_cov_prior@jac_h.T@inv(jac_h@error_cov_prior@jac_h.T + R) # 5x2\n",
    "\n",
    "    # finding a posteriori state estimate\n",
    "    innv = np.reshape(np.array([dt_noisy[i], st_noisy[i]])-state_prior[:2], [2,1])\n",
    "    state_post = state_prior + np.reshape(gain@innv, [1,5])\n",
    "    state_post = state_post.flatten()\n",
    "\n",
    "    states[i+1,:] = state_post\n",
    "\n",
    "    # finding a posteriori error covariance estimate\n",
    "    temp = np.eye(5,5) - gain@jac_h\n",
    "    error_cov_post = temp@error_cov_prior@temp.T + gain@R@gain.T"
   ]
  },
  {
   "cell_type": "code",
   "execution_count": 12,
   "metadata": {},
   "outputs": [],
   "source": [
    "stimes = np.append([0], sampling_times)"
   ]
  },
  {
   "cell_type": "code",
   "execution_count": 56,
   "metadata": {},
   "outputs": [],
   "source": [
    "plt.plot(dt_original, label='original')\n",
    "plt.plot(stimes, states[:,0],'r-', label='estimated')\n",
    "plt.plot(sampling_times, dt_noisy, '*', label='observed datapoints', mew=5, ms=6)\n",
    "plt.xlabel('Time')\n",
    "plt.ylabel('Dt')\n",
    "plt.title(\"Number of Chaperones vs. Time\")\n",
    "plt.legend()\n",
    "plt.savefig(\"dt.png\")"
   ]
  },
  {
   "cell_type": "code",
   "execution_count": 57,
   "metadata": {},
   "outputs": [],
   "source": [
    "plt.plot(st_original, label='original')\n",
    "plt.plot(stimes, states[:,1],'r-', label='estimated')\n",
    "plt.plot(sampling_times, st_noisy, '*', label='observed datapoints', mew=5, ms=6)\n",
    "plt.xlabel('Time')\n",
    "plt.ylabel('St')\n",
    "plt.title(\"Number of $σ^{32}$ vs. Time\")\n",
    "plt.legend()\n",
    "plt.savefig(\"st.png\")"
   ]
  },
  {
   "cell_type": "code",
   "execution_count": 34,
   "metadata": {},
   "outputs": [],
   "source": [
    "plt.title(\"$K_{d}$ vs. Time\")\n",
    "plt.plot(stimes, states[:,3], 'rx', label='Estimated')\n",
    "plt.plot(stimes, [3 for i in range(len(stimes))], 'b', label='True Value')\n",
    "plt.plot(stimes[-14:], states[-14:,3], 'g', label='Steady State')\n",
    "plt.xlabel('Time')\n",
    "plt.ylabel('$K_{d}$')\n",
    "plt.legend()\n",
    "plt.savefig(\"kd.png\")"
   ]
  },
  {
   "cell_type": "code",
   "execution_count": 62,
   "metadata": {},
   "outputs": [],
   "source": [
    "plt.title(\"$α_{s}$ vs. Time\")\n",
    "plt.plot(stimes, states[:,4], 'rx', label='Estimated')\n",
    "plt.plot(stimes, [3 for i in range(len(stimes))], 'b', label='True Value')\n",
    "plt.plot(stimes[-14:], states[-14:,4], 'g', label='Steady State')\n",
    "plt.xlabel('Time')\n",
    "plt.ylabel('$α_{s}$')\n",
    "plt.legend()\n",
    "plt.savefig(\"alphas.png\")"
   ]
  },
  {
   "cell_type": "code",
   "execution_count": 63,
   "metadata": {},
   "outputs": [
    {
     "data": {
      "text/plain": [
       "3.025737957438999"
      ]
     },
     "execution_count": 63,
     "metadata": {},
     "output_type": "execute_result"
    }
   ],
   "source": [
    "Kd_estimated = np.mean(states[-14:,3])\n",
    "Kd_estimated"
   ]
  },
  {
   "cell_type": "code",
   "execution_count": 64,
   "metadata": {},
   "outputs": [
    {
     "data": {
      "text/plain": [
       "3.046225006761973"
      ]
     },
     "execution_count": 64,
     "metadata": {},
     "output_type": "execute_result"
    }
   ],
   "source": [
    "αs_estimated = np.mean(states[-14:,4])\n",
    "αs_estimated"
   ]
  },
  {
   "cell_type": "markdown",
   "metadata": {},
   "source": [
    "### A Posteriori Identifiability Test"
   ]
  },
  {
   "cell_type": "code",
   "execution_count": 45,
   "metadata": {},
   "outputs": [],
   "source": [
    "t = np.arange(0,401,1)\n",
    "state0 = [10000, 50, 2e6, Kd_estimated, αs_estimated]\n",
    "states = odeint(heat_shock_response, state0, t)"
   ]
  },
  {
   "cell_type": "code",
   "execution_count": 46,
   "metadata": {},
   "outputs": [],
   "source": [
    "noise1_estimates = dt_noisy - states[sampling_times,0].flatten()\n",
    "noise2_estimates = st_noisy - states[sampling_times,1].flatten()"
   ]
  },
  {
   "cell_type": "markdown",
   "metadata": {},
   "source": [
    "#### Point Estimates "
   ]
  },
  {
   "cell_type": "code",
   "execution_count": 47,
   "metadata": {},
   "outputs": [],
   "source": [
    "var1_estimate = np.dot(noise1_estimates, noise1_estimates)/(len(sampling_times)-1)\n",
    "var2_estimate = np.dot(noise2_estimates, noise2_estimates)/(len(sampling_times)-1)"
   ]
  },
  {
   "cell_type": "code",
   "execution_count": 49,
   "metadata": {},
   "outputs": [
    {
     "name": "stdout",
     "output_type": "stream",
     "text": [
      "original variance1:  124000.00000000001  estimated variance1:  76465.03871924298\n",
      "original variance2:  737.94  estimated variance2:  961.6030029862185\n"
     ]
    }
   ],
   "source": [
    "print(\"original variance1: \", σ1**2, \" estimated variance1: \", var1_estimate)\n",
    "print(\"original variance2: \", σ2**2, \" estimated variance2: \", var2_estimate)"
   ]
  },
  {
   "cell_type": "markdown",
   "metadata": {},
   "source": [
    "#### Interval Estimates\n",
    "\n",
    "Confidence cofficient, $\\gamma = 0.95$\n",
    "\n",
    "$\\chi_{22,0.025} = 10.982,~ \\chi_{22,0.975} = 36.781$"
   ]
  },
  {
   "cell_type": "code",
   "execution_count": 50,
   "metadata": {},
   "outputs": [
    {
     "name": "stdout",
     "output_type": "stream",
     "text": [
      "σ1 lies in interval (43657, 146217) with 95% confidence\n"
     ]
    }
   ],
   "source": [
    "n12 = np.dot(noise1_estimates, noise1_estimates)\n",
    "l1 = n12/36.781\n",
    "u1 = n12/10.982\n",
    "print(\"σ1 lies in interval (%d, %d) with 95%% confidence\"%(l1,u1))"
   ]
  },
  {
   "cell_type": "code",
   "execution_count": 51,
   "metadata": {},
   "outputs": [
    {
     "name": "stdout",
     "output_type": "stream",
     "text": [
      "σ2 lies in interval (549, 1838) with 95% confidence\n"
     ]
    }
   ],
   "source": [
    "n22 = np.dot(noise2_estimates, noise2_estimates)\n",
    "l2 = n22/36.781\n",
    "u2 = n22/10.982\n",
    "print(\"σ2 lies in interval (%d, %d) with 95%% confidence\"%(l2,u2))"
   ]
  },
  {
   "cell_type": "markdown",
   "metadata": {},
   "source": [
    "### Model 2 "
   ]
  },
  {
   "cell_type": "code",
   "execution_count": 13,
   "metadata": {},
   "outputs": [],
   "source": [
    "dt_original_m2 = np.loadtxt(\"dt_original_m2.txt\")\n",
    "st_original_m2 = np.loadtxt(\"st_original_m2.txt\")"
   ]
  },
  {
   "cell_type": "code",
   "execution_count": 14,
   "metadata": {},
   "outputs": [],
   "source": [
    "αd = 0.015\n",
    "η = 390\n",
    "α0 = 0.03\n",
    "Ks = 0.05\n",
    "Ku = 0.0254\n",
    "K = 80\n",
    "Kfold = 6000\n",
    "Pt = 2e6\n",
    "# Kd = 3, need to be estimated\n",
    "# αs = 3, need to be estimated"
   ]
  },
  {
   "cell_type": "code",
   "execution_count": 15,
   "metadata": {},
   "outputs": [],
   "source": [
    "def heat_shock_response2(state, t):\n",
    "    dt = state[0]\n",
    "    st = state[1]\n",
    "    uf = state[2]\n",
    "    Kd = state[3]\n",
    "    αs = state[4]\n",
    "    \n",
    "    dtd = Kd*st*(1+Ku*uf)/(1+Ku*uf+Ks*dt) - αd*dt\n",
    "    std = η - α0*st - αs*st\n",
    "    ufd = K*(Pt - uf) - (K+Kfold)*dt\n",
    "    Kdd = 0\n",
    "    αsd = 0\n",
    "    \n",
    "    return np.array([dtd, std, ufd, Kdd, αsd])"
   ]
  },
  {
   "cell_type": "code",
   "execution_count": 16,
   "metadata": {},
   "outputs": [],
   "source": [
    "def find_f2_jacobian(state):\n",
    "    dt = state[0]\n",
    "    st = state[1]\n",
    "    uf = state[2]\n",
    "    Kd = state[3]\n",
    "    αs = state[4]\n",
    "    \n",
    "    jac = np.zeros((5,5))\n",
    "    \n",
    "    jac[0,0] = -αd -Kd*st*(1+Ku*uf)*Ks/(1+Ku*uf+Ks*dt)**2 # df1/dDt\n",
    "    jac[0,1] = Kd*(1+Ku*uf)/(1+Ku*uf+Ks*dt) # df1/dSt\n",
    "    jac[0,2] = Ku*Ks*Kd*dt*st/(1+Ku*uf+Ks*dt)**2 # df1/dUf\n",
    "    jac[0,3] = st*(1+Ku*uf)/(1+Ku*uf+Ks*dt) # df1/dKd\n",
    "    jac[0,4] = 0 # df1/dαs\n",
    "    \n",
    "    jac[1,0] = 0 # df2/dDt\n",
    "    jac[1,1] = -α0 - αs # df2/dSt\n",
    "    jac[1,2] = 0 # df2/dUf\n",
    "    jac[1,3] = 0 # df2/dKd\n",
    "    jac[1,4] = -st # df2/dαs\n",
    "    \n",
    "    jac[2,0] = -K - Kfold\n",
    "    jac[2,1] = 0\n",
    "    jac[2,2] = -K\n",
    "    jac[2,3] = 0\n",
    "    jac[2,4] = 0\n",
    "    \n",
    "    # $̇Kd = 0, ̇αs = 0$\n",
    "    \n",
    "    return jac"
   ]
  },
  {
   "cell_type": "code",
   "execution_count": 17,
   "metadata": {},
   "outputs": [],
   "source": [
    "def find_h2_jacobian():\n",
    "    jac = np.zeros((2,5)) # only Dt and St measurments are available\n",
    "    jac[0,0] = 1\n",
    "    jac[1,1] = 1\n",
    "    \n",
    "    return jac"
   ]
  },
  {
   "cell_type": "code",
   "execution_count": 18,
   "metadata": {},
   "outputs": [],
   "source": [
    "def diff_error_cov_eqn(error_cov_flat, t, jac_f, Q):\n",
    "    error_cov = np.reshape(error_cov_flat, [5,5])\n",
    "    error_cov_diff = jac_f@error_cov + error_cov@jac_f.T + Q\n",
    "    return error_cov_diff.flatten()"
   ]
  },
  {
   "cell_type": "code",
   "execution_count": 19,
   "metadata": {},
   "outputs": [],
   "source": [
    "states2 = np.zeros((1+len(sampling_times),5))\n",
    "\n",
    "# Initial Conditions\n",
    "state_post = np.array([10000, 50, 2e6, 0.01, 0.01])\n",
    "Q = 0.1*np.eye(5)\n",
    "error_cov_post = Q\n",
    "\n",
    "states2[0,:] = state_post\n",
    "\n",
    "for i in range(len(sampling_times)):\n",
    "    if i==0:\n",
    "        t = np.linspace(0, sampling_times[0], 100) \n",
    "    else:\n",
    "        t = np.linspace(sampling_times[i-1], sampling_times[i], 100)\n",
    "    \n",
    "    # finding a priori state estimate\n",
    "    state_prior = odeint(heat_shock_response2, state_post, t)[-1,:]\n",
    "        \n",
    "    # finding a priori error covariance estimate\n",
    "    jac_f = find_f2_jacobian(state_post)\n",
    "    error_cov_prior = np.reshape(odeint(diff_error_cov_eqn, error_cov_post.flatten(), \n",
    "                                        t, args = (jac_f,Q,))[-1,:], [5,5])\n",
    "\n",
    "    # finding the gain\n",
    "    jac_h = find_h2_jacobian() #2x5\n",
    "    gain = error_cov_prior@jac_h.T@inv(jac_h@error_cov_prior@jac_h.T + R) # 5x2\n",
    "\n",
    "    # finding a posteriori state estimate\n",
    "    innv = np.reshape(np.array([dt_noisy[i], st_noisy[i]])-state_prior[:2], [2,1])\n",
    "    state_post = state_prior + np.reshape(gain@innv, [1,5])\n",
    "    state_post = state_post.flatten()\n",
    "\n",
    "    states2[i+1,:] = state_post\n",
    "\n",
    "    # finding a posteriori error covariance estimate\n",
    "    temp = np.eye(5,5) - gain@jac_h\n",
    "    error_cov_post = temp@error_cov_prior@temp.T + gain@R@gain.T"
   ]
  },
  {
   "cell_type": "code",
   "execution_count": 20,
   "metadata": {},
   "outputs": [],
   "source": [
    "stimes_200 = stimes[np.where(stimes<=200)]"
   ]
  },
  {
   "cell_type": "code",
   "execution_count": 26,
   "metadata": {},
   "outputs": [],
   "source": [
    "plt.plot(dt_original[:201], 'yo', label='$\\Sigma_{1}$ Ideal Solution')\n",
    "plt.plot(dt_original_m2[:201], 'co', label='$\\Sigma_{2}$ Ideal Solution')\n",
    "plt.plot(stimes_200, states[:15,0],'r-', label='$\\Sigma_{1}$ Estimated Solution')\n",
    "plt.plot(stimes_200, states2[:15,0],'b-', label='$\\Sigma_{2}$ Estimated Solution')\n",
    "plt.plot(stimes_200, dt_noisy[:15], 'g*', label='observed datapoints', mew=5, ms=6)\n",
    "plt.title(\"Number of Chaperones vs. Time\")\n",
    "plt.xlabel('Time')\n",
    "plt.ylabel('Dt')\n",
    "plt.legend()\n",
    "plt.savefig(\"dt-models.png\")"
   ]
  },
  {
   "cell_type": "code",
   "execution_count": 27,
   "metadata": {},
   "outputs": [],
   "source": [
    "plt.plot(st_original[:201], 'yo', label='$\\Sigma_{1}$ Ideal Solution')\n",
    "plt.plot(st_original_m2[:201], 'co', label='$\\Sigma_{2}$ Ideal Solution')\n",
    "plt.plot(stimes_200, states[:15,1],'r-', label='$\\Sigma_{1}$ Estimated Solution')\n",
    "plt.plot(stimes_200, states2[:15,1],'b-', label='$\\Sigma_{2}$ Estimated Solution')\n",
    "plt.plot(stimes_200, st_noisy[:15], 'g*', label='observed datapoints', mew=5, ms=6)\n",
    "plt.title(\"Number of $σ^{32}$ vs. Time\")\n",
    "plt.xlabel('Time')\n",
    "plt.ylabel('St')\n",
    "plt.legend()\n",
    "plt.savefig(\"st-models.png\")"
   ]
  },
  {
   "cell_type": "code",
   "execution_count": 33,
   "metadata": {},
   "outputs": [],
   "source": [
    "plt.title(\"$K_{d}$-Model2 vs. Time\")\n",
    "plt.plot(stimes, states2[:,3], 'rx', label='Estimated')\n",
    "plt.plot(stimes, [3 for i in range(len(stimes))], 'b', label='True Value')\n",
    "plt.plot(stimes[-13:], states2[-13:,3], 'g', label='Steady State')\n",
    "plt.xlabel('Time')\n",
    "plt.ylabel('$K_{d}$')\n",
    "plt.legend()\n",
    "plt.savefig(\"kd-m2.png\")"
   ]
  },
  {
   "cell_type": "code",
   "execution_count": 35,
   "metadata": {},
   "outputs": [],
   "source": [
    "plt.title(\"$α_{s}$-Model2 vs. Time\")\n",
    "plt.plot(stimes, states2[:,4], 'rx', label='Estimated')\n",
    "plt.plot(stimes, [3 for i in range(len(stimes))], 'b', label='True Value')\n",
    "plt.plot(stimes[-13:], states2[-13:,4], 'g', label='Steady State')\n",
    "plt.xlabel('Time')\n",
    "plt.ylabel('$α_{s}$')\n",
    "plt.legend()\n",
    "plt.savefig(\"alphas-m2.png\")"
   ]
  },
  {
   "cell_type": "code",
   "execution_count": 36,
   "metadata": {},
   "outputs": [
    {
     "data": {
      "text/plain": [
       "3.0307649890523463"
      ]
     },
     "execution_count": 36,
     "metadata": {},
     "output_type": "execute_result"
    }
   ],
   "source": [
    "Kd_estimated = np.mean(states2[-13:,3])\n",
    "Kd_estimated"
   ]
  },
  {
   "cell_type": "code",
   "execution_count": 37,
   "metadata": {},
   "outputs": [
    {
     "data": {
      "text/plain": [
       "2.983211003825827"
      ]
     },
     "execution_count": 37,
     "metadata": {},
     "output_type": "execute_result"
    }
   ],
   "source": [
    "αs_estimated = np.mean(states2[-13:,4])\n",
    "αs_estimated"
   ]
  },
  {
   "cell_type": "code",
   "execution_count": 38,
   "metadata": {},
   "outputs": [],
   "source": [
    "t = np.arange(0,401,1)\n",
    "state0 = [10000, 50, 2e6, Kd_estimated, αs_estimated]\n",
    "states3 = odeint(heat_shock_response2, state0, t)"
   ]
  },
  {
   "cell_type": "code",
   "execution_count": 39,
   "metadata": {},
   "outputs": [],
   "source": [
    "noise1_estimates = dt_noisy - states3[sampling_times,0].flatten()\n",
    "noise2_estimates = st_noisy - states3[sampling_times,1].flatten()"
   ]
  },
  {
   "cell_type": "code",
   "execution_count": 40,
   "metadata": {},
   "outputs": [],
   "source": [
    "var1_estimate = np.dot(noise1_estimates, noise1_estimates)/(len(sampling_times)-1)\n",
    "var2_estimate = np.dot(noise2_estimates, noise2_estimates)/(len(sampling_times)-1)"
   ]
  },
  {
   "cell_type": "code",
   "execution_count": 41,
   "metadata": {},
   "outputs": [
    {
     "name": "stdout",
     "output_type": "stream",
     "text": [
      "original variance1:  124000.00000000001  estimated variance1:  13302612.34081991\n",
      "original variance2:  737.94  estimated variance1:  12117.181186351067\n"
     ]
    }
   ],
   "source": [
    "print(\"original variance1: \", σ1**2, \" estimated variance1: \", var1_estimate)\n",
    "print(\"original variance2: \", σ2**2, \" estimated variance1: \", var2_estimate)"
   ]
  },
  {
   "cell_type": "code",
   "execution_count": 43,
   "metadata": {},
   "outputs": [
    {
     "name": "stdout",
     "output_type": "stream",
     "text": [
      "var1 lies in interval (7595086, 25437521) with 95% confidence\n"
     ]
    }
   ],
   "source": [
    "n12 = np.dot(noise1_estimates, noise1_estimates)\n",
    "l1 = n12/36.781\n",
    "u1 = n12/10.982\n",
    "print(\"var1 lies in interval (%d, %d) with 95%% confidence\"%(l1,u1))"
   ]
  },
  {
   "cell_type": "code",
   "execution_count": 44,
   "metadata": {},
   "outputs": [
    {
     "name": "stdout",
     "output_type": "stream",
     "text": [
      "var2 lies in interval (6918, 23170) with 95% confidence\n"
     ]
    }
   ],
   "source": [
    "n22 = np.dot(noise2_estimates, noise2_estimates)\n",
    "l2 = n22/36.781\n",
    "u2 = n22/10.982\n",
    "print(\"var2 lies in interval (%d, %d) with 95%% confidence\"%(l2,u2))"
   ]
  },
  {
   "cell_type": "code",
   "execution_count": null,
   "metadata": {},
   "outputs": [],
   "source": []
  }
 ],
 "metadata": {
  "kernelspec": {
   "display_name": "Python 3",
   "language": "python",
   "name": "python3"
  },
  "language_info": {
   "codemirror_mode": {
    "name": "ipython",
    "version": 3
   },
   "file_extension": ".py",
   "mimetype": "text/x-python",
   "name": "python",
   "nbconvert_exporter": "python",
   "pygments_lexer": "ipython3",
   "version": "3.6.4"
  }
 },
 "nbformat": 4,
 "nbformat_minor": 2
}
